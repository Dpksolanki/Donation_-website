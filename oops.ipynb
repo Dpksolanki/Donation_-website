{
  "nbformat": 4,
  "nbformat_minor": 0,
  "metadata": {
    "colab": {
      "provenance": [],
      "authorship_tag": "ABX9TyOreknOvT9Dhl7Eiz6aOE0/",
      "include_colab_link": true
    },
    "kernelspec": {
      "name": "python3",
      "display_name": "Python 3"
    },
    "language_info": {
      "name": "python"
    }
  },
  "cells": [
    {
      "cell_type": "markdown",
      "metadata": {
        "id": "view-in-github",
        "colab_type": "text"
      },
      "source": [
        "<a href=\"https://colab.research.google.com/github/Dpksolanki/Donation_-website/blob/main/oops.ipynb\" target=\"_parent\"><img src=\"https://colab.research.google.com/assets/colab-badge.svg\" alt=\"Open In Colab\"/></a>"
      ]
    },
    {
      "cell_type": "markdown",
      "source": [
        "Aggregtion"
      ],
      "metadata": {
        "id": "rDelT67walU0"
      }
    },
    {
      "cell_type": "code",
      "source": [
        "class Customer:\n",
        "  \n",
        "  def __init__(self,name,gender,address):\n",
        "    self.name = name\n",
        "    self.gender = gender\n",
        "    self.address = address\n",
        "\n",
        "  def edit_profile(self,new_name,new_city,new_pin,new_state):\n",
        "    self.name = new_name\n",
        "    self.address.change_address(new_city,new_pin,new_state)\n",
        "\n",
        "class Address:\n",
        "  \n",
        "  def __init__(self,city,pincode,state):\n",
        "    self.city = city\n",
        "    self.pincode = pincode\n",
        "    self.state = state\n",
        "  \n",
        "  def change_address(self,new_city,new_pin,new_state):\n",
        "    self.city = new_city\n",
        "    self.pincode = new_pin\n",
        "    self.state = new_state\n",
        "\n",
        "add = Address(\"kolkata\",700156, \"WB\")\n",
        "cust = Customer(\"Nitish\",\"Male\",add)\n",
        "\n",
        "cust.edit_profile(\"ankit\",\"Gurgaon\",112212,\"Haryana\")\n",
        "\n",
        "print(cust.address.pincode)"
      ],
      "metadata": {
        "colab": {
          "base_uri": "https://localhost:8080/"
        },
        "id": "oAyaLUwsapH9",
        "outputId": "26da16c9-7605-4fe6-acf3-67b2950e8067"
      },
      "execution_count": 8,
      "outputs": [
        {
          "output_type": "stream",
          "name": "stdout",
          "text": [
            "112212\n"
          ]
        }
      ]
    }
  ]
}